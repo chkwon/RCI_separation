{
 "cells": [
  {
   "cell_type": "code",
   "execution_count": 15,
   "metadata": {},
   "outputs": [
    {
     "name": "stdout",
     "output_type": "stream",
     "text": [
      "\u001b[1m1×6 DataFrame\u001b[0m\n",
      "\u001b[1m Row \u001b[0m│\u001b[1m customers \u001b[0m\u001b[1m vehicles \u001b[0m\u001b[1m capacity \u001b[0m\u001b[1m demand                            \u001b[0m\u001b[1m edges                             \u001b[0m\u001b[1m x_bar                             \u001b[0m\n",
      "     │\u001b[90m Int64     \u001b[0m\u001b[90m Int64    \u001b[0m\u001b[90m Int64    \u001b[0m\u001b[90m String                            \u001b[0m\u001b[90m String                            \u001b[0m\u001b[90m String                            \u001b[0m\n",
      "─────┼────────────────────────────────────────────────────────────────────────────────────────────────────────────────────────────────────────\n",
      "   1 │        10         2        10  [0, 1, 3, 2, 4, 1, 4, 2, 3, 2, 3]  [[1, 2], [2, 1], [1, 9], [9, 1],…  [1.0, 1.0, 0.5, 0.5, 0.5, 0.5, 1…\n"
     ]
    },
    {
     "data": {
      "text/plain": [
       "100"
      ]
     },
     "metadata": {},
     "output_type": "display_data"
    }
   ],
   "source": [
    "using JuMP, Gurobi, CSV, DataFrames, JSON, LightGraphs\n",
    "global α = 0.95\n",
    "global accept_rate = 0.8\n",
    "data = CSV.read(\"test.csv\",DataFrame)\n",
    "println(data)\n",
    "global L = data[1,\"customers\"]\n",
    "global Big_M = 100"
   ]
  },
  {
   "cell_type": "code",
   "execution_count": 16,
   "metadata": {},
   "outputs": [
    {
     "data": {
      "text/plain": [
       "read_Kth_data (generic function with 1 method)"
      ]
     },
     "metadata": {},
     "output_type": "display_data"
    }
   ],
   "source": [
    "function read_Kth_data(data, k)\n",
    "\n",
    "    customers = data[k,\"customers\"]\n",
    "\n",
    "    K = data[k,\"vehicles\"]\n",
    "\n",
    "    C = data[k,\"capacity\"]\n",
    "\n",
    "    edges_raw = JSON.parse(data[k,\"edges\"])\n",
    "    edges_raw  = Vector{Vector{Int64}}(edges_raw)\n",
    "\n",
    "    sol_raw = JSON.parse(data[k,\"x_bar\"])\n",
    "    sol_raw = Vector{Float64}(sol_raw)\n",
    "\n",
    "    demands = JSON.parse(data[k,\"demand\"])\n",
    "    demands = Vector{Int64}(demands)\n",
    "\n",
    "    edges = Vector{Vector{Int64}}()\n",
    "    #sol = Vector{Tuple{Int64,Int64,Float64}}()\n",
    "    sol = Dict()\n",
    "\n",
    "    for i in 1:2:length(edges_raw)  # get support graph s.t Xij >0\n",
    "        if sol_raw[i] > 0\n",
    "            push!(edges, edges_raw[i])\n",
    "            sol[\"($(edges_raw[i][1]),$(edges_raw[i][2]))\"] =  sol_raw[i]\n",
    "            #push!(sol, (edges_raw[i][1],edges_raw[i][2],sol_raw[i]))\n",
    "        end\n",
    "    end\n",
    "\n",
    "    input = [customers, K, C, demands, edges, sol]\n",
    "    \n",
    "    return input\n",
    "end"
   ]
  },
  {
   "cell_type": "code",
   "execution_count": 17,
   "metadata": {},
   "outputs": [
    {
     "data": {
      "text/plain": [
       "support_graph (generic function with 1 method)"
      ]
     },
     "metadata": {},
     "output_type": "display_data"
    }
   ],
   "source": [
    "function support_graph(input)\n",
    "    #g = SimpleGraph(input[1]+1)\n",
    "\n",
    "    #for i in 1:length(input[5])\n",
    "    #    add_edge!(g,input[5][i][1],input[5][i][2])\n",
    "    #end\n",
    "\n",
    "    g = Dict(\"$i\" => [] for i in 1:input[1]+1)\n",
    "    \n",
    "\n",
    "    #println(g)\n",
    "\n",
    "    for i in 1:length(input[5])\n",
    "        push!(g[\"$(input[5][i][1])\"],input[5][i][2])\n",
    "        push!(g[\"$(input[5][i][2])\"],input[5][i][1])\n",
    "    end\n",
    "\n",
    "    return g\n",
    "end\n"
   ]
  },
  {
   "cell_type": "code",
   "execution_count": 18,
   "metadata": {},
   "outputs": [
    {
     "data": {
      "text/plain": [
       "initial_sol_min_subset (generic function with 1 method)"
      ]
     },
     "metadata": {},
     "output_type": "display_data"
    }
   ],
   "source": [
    "function initial_sol_min_subset(input, M, C)\n",
    "    sol_initial_y = Vector{Vector{Int64}}(undef,input[1]+1) #yi's value& di's value\n",
    "    #sol_initial_w = input[5] #i,j,Wij\n",
    "    sol_initial_w = Dict()\n",
    "    demand = input[4]\n",
    "    sorted_nodes = sortperm(demand, rev=true)\n",
    "    sum_demand = 0\n",
    "\n",
    "    for num in 1:length(sorted_nodes)\n",
    "        if sorted_nodes[num] == 1\n",
    "            sol_initial_y[sorted_nodes[num]] = [0,0]\n",
    "            continue\n",
    "        end\n",
    "       \n",
    "        if sum_demand < M*C + 1\n",
    "            sol_initial_y[sorted_nodes[num]] = [1,demand[sorted_nodes[num]]]\n",
    "            sum_demand = sum_demand + demand[sorted_nodes[num]]\n",
    "        else\n",
    "            sol_initial_y[sorted_nodes[num]] = [0,demand[sorted_nodes[num]]]\n",
    "        end\n",
    "    end\n",
    "\n",
    "    for i in 1:length(input[5])\n",
    "        key = \"($(input[5][i][1]),$(input[5][i][2]))\"\n",
    "        if sol_initial_y[input[5][i][1]][1] == 1 && sol_initial_y[input[5][i][2]][1] == 0 \n",
    "            value = 1\n",
    "        elseif sol_initial_y[input[5][i][1]][1] == 0 && sol_initial_y[input[5][i][2]][1] == 1\n",
    "            value = 1\n",
    "        else\n",
    "            value = 0 \n",
    "        end\n",
    "        sol_initial_w[key] = value\n",
    "    end\n",
    "    \n",
    "\n",
    "\n",
    "\n",
    "    #for i in 1:length(sol_initial_w)\n",
    "    #    if sol_initial_y[sol_initial_w[i][1]][1] == 1 && sol_initial_y[sol_initial_w[i][2]][1] == 0\n",
    "    #        push!(sol_initial_w[i],1)\n",
    "    #    elseif sol_initial_y[sol_initial_w[i][1]][1] == 0 && sol_initial_y[sol_initial_w[i][2]][1] == 1\n",
    "    #        push!(sol_initial_w[i],1)\n",
    "    #    else\n",
    "    #        push!(sol_initial_w[i],0)\n",
    "    #    end\n",
    "    #end\n",
    "\n",
    "    ##println(\"X0: \", [sol_initial_y,sol_initial_w,sum_demand])\n",
    "\n",
    "    return [sol_initial_y,sol_initial_w,sum_demand]\n",
    " \n",
    "end"
   ]
  },
  {
   "cell_type": "code",
   "execution_count": 19,
   "metadata": {},
   "outputs": [
    {
     "data": {
      "text/plain": [
       "initial_sol_max_subset (generic function with 1 method)"
      ]
     },
     "metadata": {},
     "output_type": "display_data"
    }
   ],
   "source": [
    "function initial_sol_max_subset(input, M, C)\n",
    "    sol_initial_y = Vector{Vector{Int64}}(undef,input[1]+1) #yi's value& di's value\n",
    "    sol_initial_w = Dict()\n",
    "    demand = input[4]\n",
    "    -\n",
    "    \n",
    "    for num in 1:length(sol_initial_y)\n",
    "       if num == 1\n",
    "            sol_initial_y[num] = [0,0]\n",
    "       else\n",
    "            sol_initial_y[num] = [1,demand[num]]\n",
    "       end\n",
    "    end\n",
    "    \n",
    "    for i in 1:length(input[5])\n",
    "        key = \"($(input[5][i][1]),$(input[5][i][2]))\"\n",
    "        if sol_initial_y[input[5][i][1]][1] == 1 && sol_initial_y[input[5][i][2]][1] == 0 \n",
    "            value = 1\n",
    "        elseif sol_initial_y[input[5][i][1]][1] == 0 && sol_initial_y[input[5][i][2]][1] == 1\n",
    "            value = 1\n",
    "        else\n",
    "            value = 0 \n",
    "        end\n",
    "        sol_initial_w[key] = value\n",
    "    end\n",
    "\n",
    "    return [sol_initial_y,sol_initial_w,sum(demand)]\n",
    " \n",
    "end\n"
   ]
  },
  {
   "cell_type": "code",
   "execution_count": 20,
   "metadata": {},
   "outputs": [
    {
     "data": {
      "text/plain": [
       "f (generic function with 1 method)"
      ]
     },
     "metadata": {},
     "output_type": "display_data"
    }
   ],
   "source": [
    "function f(x_cur, coefficient)\n",
    "    Wij = deepcopy(x_cur[2][1]) #O(n)\n",
    "    #Xij = deepcopy(coefficient) #O(n)\n",
    "    Obj_value = 0\n",
    "\n",
    "    #println(length(Xij))\n",
    "    for (key,value) in coefficient #O(n)\n",
    "        Obj_value = Obj_value + value*Wij[\"$key\"]\n",
    "    end\n",
    "\n",
    "    Obj_value = Obj_value\n",
    "\n",
    "    ##println(\"Obj_value: \",Obj_value)\n",
    "    return Obj_value \n",
    "end"
   ]
  },
  {
   "cell_type": "code",
   "execution_count": 21,
   "metadata": {},
   "outputs": [
    {
     "data": {
      "text/plain": [
       "stop (generic function with 1 method)"
      ]
     },
     "metadata": {},
     "output_type": "display_data"
    }
   ],
   "source": [
    "function stop(T)\n",
    "    stop = 0\n",
    "    if(T < 0.01)\n",
    "        stop = 1\n",
    "    end\n",
    "    #println(\"T: \",T)\n",
    "    return stop\n",
    "end"
   ]
  },
  {
   "cell_type": "code",
   "execution_count": 22,
   "metadata": {},
   "outputs": [
    {
     "data": {
      "text/plain": [
       "get_Wij (generic function with 1 method)"
      ]
     },
     "metadata": {},
     "output_type": "display_data"
    }
   ],
   "source": [
    "function get_Wij(x_cur)\n",
    "    sol_y = deepcopy(x_cur[1]) #O(n)\n",
    "    sol_w = deepcopy(x_cur[2])\n",
    "\n",
    "    for i in 1:length(sol_w) #O(n)\n",
    "        if sol_y[sol_w[i][1]][1] == 1 && sol_y[sol_w[i][2]][1] == 0\n",
    "            sol_w[i][3] = 1\n",
    "        elseif sol_y[sol_w[i][1]][1] == 0 && sol_y[sol_w[i][2]][1] == 1\n",
    "            sol_w[i][3] = 1\n",
    "        else\n",
    "            sol_w[i][3] = 0\n",
    "        end\n",
    "    end\n",
    "    \n",
    "    return sol_w\n",
    "end"
   ]
  },
  {
   "cell_type": "code",
   "execution_count": 23,
   "metadata": {},
   "outputs": [
    {
     "data": {
      "text/plain": [
       "neighbor_sol (generic function with 1 method)"
      ]
     },
     "metadata": {},
     "output_type": "display_data"
    }
   ],
   "source": [
    "function neighbor_sol(x_cur, M, C, g, obj_cur, coeffieient, T_cur, mod) #1-fliping\n",
    "    #y_cur = deepcopy(x_cur[1]) #O(n)\n",
    "    #w_cur = deepcopy(x_cur[2]) #O(n)\n",
    "\n",
    "    y_cur = x_cur[1][2]\n",
    "    w_cur = x_cur[2][2]\n",
    "    demand = deepcopy(x_cur[3])\n",
    "    obj_new = deepcopy(obj_cur)\n",
    "    index_fliped = rand(2:length(y_cur))\n",
    "    penalty = 0\n",
    "    \n",
    "\n",
    "    if y_cur[index_fliped][1] == 1\n",
    "        y_cur[index_fliped][1] = 0\n",
    "        demand = demand - y_cur[index_fliped][2]\n",
    "    else\n",
    "        y_cur[index_fliped][1] = 1\n",
    "        demand = demand + y_cur[index_fliped][2]\n",
    "    end\n",
    "\n",
    "    if demand < M*C + 1\n",
    "        penalty = Big_M*(M*C + 1 - demand)\n",
    "    else\n",
    "        penalty = 0\n",
    "    end\n",
    "\n",
    "    ##println(\"x_cur: $(x_cur[1])\")\n",
    "    ##println(\"y_cur: $y_cur\")\n",
    "\n",
    "    neighbor_list = g[\"$index_fliped\"]\n",
    "\n",
    "    #println(length(neighbor_list))\n",
    "    #println(\"neighbor_list: \",neighbor_list)\n",
    "    #println((neighbor_list[1],index_fliped))\n",
    "    edges_changed = Vector{Tuple{Int64, Int64}}()\n",
    "    for i in 1:length(neighbor_list)\n",
    "        if haskey(w_cur,\"($(index_fliped),$(neighbor_list[i]))\") == true\n",
    "            if w_cur[\"($(index_fliped),$(neighbor_list[i]))\"] == 1\n",
    "                w_cur[\"($(index_fliped),$(neighbor_list[i]))\"] = 0\n",
    "                obj_new = obj_new - coeffieient[\"($(index_fliped),$(neighbor_list[i]))\"]\n",
    "                ##println(coeffieient[\"($(index_fliped),$(neighbor_list[i]))\"])\n",
    "                push!(edges_changed,(index_fliped,neighbor_list[i]))\n",
    "            else\n",
    "                w_cur[\"($(index_fliped),$(neighbor_list[i]))\"] = 1\n",
    "                obj_new = obj_new + coeffieient[\"($(index_fliped),$(neighbor_list[i]))\"]\n",
    "                ##println(coeffieient[\"($(index_fliped),$(neighbor_list[i]))\"])\n",
    "                push!(edges_changed,(index_fliped,neighbor_list[i]))\n",
    "                \n",
    "            end\n",
    "        else\n",
    "            if w_cur[\"($(neighbor_list[i]),$(index_fliped))\"] == 1\n",
    "                w_cur[\"($(neighbor_list[i]),$(index_fliped))\"] = 0\n",
    "                obj_new = obj_new - coeffieient[\"($(neighbor_list[i]),$(index_fliped))\"]\n",
    "                ##println(coeffieient[\"($(neighbor_list[i]),$(index_fliped))\"])\n",
    "                push!(edges_changed,(neighbor_list[i],index_fliped))\n",
    "                \n",
    "            else\n",
    "                w_cur[\"($(neighbor_list[i]),$(index_fliped))\"] = 1\n",
    "                obj_new = obj_new + coeffieient[\"($(neighbor_list[i]),$(index_fliped))\"]\n",
    "                ##println(coeffieient[\"($(neighbor_list[i]),$(index_fliped))\"])\n",
    "                push!(edges_changed,(neighbor_list[i],index_fliped))\n",
    "            end\n",
    "        end\n",
    "    end\n",
    "    ##println(\"obj_cur: $(obj_cur)\")\n",
    "    ##println(\"obj_new: $(obj_new+ penalty)\")\n",
    "    ΔObj_value = (obj_new + penalty) - obj_cur\n",
    "    ##println(\"ΔObj_value: $(ΔObj_value)\")\n",
    "    if mod == 1\n",
    "        if ΔObj_value <= 0 || rand() < exp(-ΔObj_value/T_cur)\n",
    "            x_cur[1][1][index_fliped][1] = y_cur[index_fliped][1]        #x_cur[1][1] = y_cur\n",
    "            for i in 1:length(edges_changed)        #x_cur[2][1] = w_cur\n",
    "                x_cur[2][1][\"($(edges_changed[i][1]),$(edges_changed[i][2]))\"] = w_cur[\"($(edges_changed[i][1]),$(edges_changed[i][2]))\"]\n",
    "            end\n",
    "            x_cur[3] = demand\n",
    "            obj_cur = obj_new\n",
    "            if ΔObj_value <= 0\n",
    "                ##println(\"a\")\n",
    "            else\n",
    "                ##println(\"b\")\n",
    "            end\n",
    "        else\n",
    "            ##println(\"c\")\n",
    "            y_cur[index_fliped][1] = x_cur[1][1][index_fliped][1]\n",
    "            for i in 1:length(edges_changed)        \n",
    "                w_cur[\"($(edges_changed[i][1]),$(edges_changed[i][2]))\"] = x_cur[2][1][\"($(edges_changed[i][1]),$(edges_changed[i][2]))\"] \n",
    "            end\n",
    "        end\n",
    "    else\n",
    "        y_cur[index_fliped][1] = x_cur[1][1][index_fliped][1]\n",
    "        for i in 1:length(edges_changed)        \n",
    "            w_cur[\"($(edges_changed[i][1]),$(edges_changed[i][2]))\"] = x_cur[2][1][\"($(edges_changed[i][1]),$(edges_changed[i][2]))\"] \n",
    "        end\n",
    "    end\n",
    "    #w_cur = get_Wij([y_cur,w_cur])\n",
    "    ##println(\"current sol: $(x_cur)\")\n",
    "    ##println(\"objective_value: $(obj_cur)\")\n",
    "\n",
    "    #println(\"neighbor_sol: \",[y_cur,w_cur,demand],\"penalty: \", penalty)\n",
    "\n",
    "    if mod == 1\n",
    "        return obj_cur\n",
    "    else\n",
    "        return ΔObj_value\n",
    "    end\n",
    "    #return ([y_cur,w_cur,demand], penalty)\n",
    "end"
   ]
  },
  {
   "cell_type": "code",
   "execution_count": 24,
   "metadata": {},
   "outputs": [
    {
     "data": {
      "text/plain": [
       "initial_temperature (generic function with 1 method)"
      ]
     },
     "metadata": {},
     "output_type": "display_data"
    }
   ],
   "source": [
    "function initial_temperature(x_cur, m0 ,M, input, g)\n",
    "\n",
    "    Δf = 0\n",
    "    num = 0\n",
    "    m1 = 0\n",
    "    m2 = 0\n",
    "    y_cur = f(x_cur, input[6])\n",
    "    for i in 1:m0\n",
    "        ΔObj_value = neighbor_sol(x_cur, M, input[3], g, y_cur, input[6], 0, 0) #neighbor_sol(x_cur, M, C, g, obj_cur, coeffieient, T_cur, mod)\n",
    "        \n",
    "        if ΔObj_value > 0 \n",
    "            Δf = Δf + ΔObj_value\n",
    "            num = num + 1\n",
    "            m2 = m2 + 1\n",
    "        else\n",
    "            m1 = m1 + 1\n",
    "        end\n",
    "        #if f(x_new,input[6],penalty) > f(x0, input[6], 0)\n",
    "            #println(\"m2: \", m2)\n",
    "        #    Δf = Δf + (f(x_new,input[6],penalty)-f(x0,input[6],0))\n",
    "        #    num = num + 1\n",
    "        #    m2 = m2 + 1\n",
    "        #else\n",
    "            #println(\"m1: \",m1)\n",
    "        #    m1 = m1 + 1\n",
    "        #end  \n",
    "    end\n",
    "\n",
    "    Δf_avg = Δf/num\n",
    "    T0 = Δf_avg/log(m2/(m2*accept_rate-m1*(1-accept_rate)))   \n",
    "\n",
    "    return T0\n",
    "     \n",
    "end"
   ]
  },
  {
   "cell_type": "code",
   "execution_count": 25,
   "metadata": {},
   "outputs": [
    {
     "data": {
      "text/plain": [
       "Simulated_annealing (generic function with 1 method)"
      ]
     },
     "metadata": {},
     "output_type": "display_data"
    }
   ],
   "source": [
    "function Simulated_annealing(x0, T0, C, coefficient, M, g) #L = transition number\n",
    "    \n",
    "    y0 = f(x0,coefficient) #f(x_cur, coefficient, penalty)\n",
    "    x_opt = x0\n",
    "    y_opt = y0\n",
    "    x_cur = x0\n",
    "    y_cur = y0\n",
    "    T = T0\n",
    "\n",
    "    while(stop(T)==0)\n",
    "        for i in 1:L\n",
    "            y_cur = neighbor_sol(x_cur, M, C, g, y_cur, coefficient, T, 1) #neighbor_sol(x_cur, M, C, g, , coeffieient, T_cur, mod)\n",
    "            #y_new = f(x_new,coefficient, penalty)obj_cur\n",
    "            #Δy = y_new - y_cur\n",
    "            #if Δy <= 0 || rand() < exp(-Δy/T)\n",
    "            #    x_cur = x_new    \n",
    "            #    y_cur = y_new\n",
    "            #end\n",
    "            ##println(\"x_cur: $(x_cur)\")\n",
    "            ##println(\"y_cur: $(y_cur)\")\n",
    "            if y_cur < y_opt\n",
    "                x_opt = x_cur\n",
    "                y_opt = y_cur\n",
    "            end\n",
    "        end\n",
    "        T = α*T\n",
    "    end\n",
    "\n",
    "    return (x_opt, y_opt)\n",
    "end"
   ]
  },
  {
   "cell_type": "code",
   "execution_count": 26,
   "metadata": {},
   "outputs": [
    {
     "name": "stdout",
     "output_type": "stream",
     "text": [
      "Obj_value: 2.0\n",
      "demand: 4\n",
      "Obj_value: 3.0\n",
      "demand: 21\n",
      "Obj_value: 3.0\n",
      "demand: 21\n",
      "\n"
     ]
    }
   ],
   "source": [
    "for i in 1:size(data)[1]\n",
    "    input = read_Kth_data(data,i)\n",
    "    g = support_graph(input)\n",
    "    sol_opt = Vector{Tuple{Any,Float64}}()\n",
    "\n",
    "    for M = 0:ceil(sum(input[4])/input[3])-1\n",
    "        #x_raw = initial_sol_min_subset(input,M, input[3])\n",
    "        x_raw = initial_sol_max_subset(input,M, input[3])\n",
    "        x0 = [[x_raw[1],deepcopy(x_raw[1])],[x_raw[2],deepcopy(x_raw[2])],x_raw[3]]\n",
    "        T0 = initial_temperature(x0,L,M,input, g )\n",
    "        push!(sol_opt, Simulated_annealing(x0,T0,input[3], input[6], M, g))\n",
    "    end\n",
    "\n",
    "    for i in 1:length(sol_opt)\n",
    "        println(\"Obj_value: \", sol_opt[i][2])\n",
    "        println(\"demand: \", sol_opt[i][1][3])\n",
    "    end\n",
    "    println(\"\")\n",
    "end\n"
   ]
  },
  {
   "cell_type": "code",
   "execution_count": 27,
   "metadata": {},
   "outputs": [],
   "source": [
    "#input = read_Kth_data(data,1)\n",
    "#g = support_graph(input)\n",
    "#M = 1\n",
    "#x_raw = initial_sol_less_degree(input, M, input[3]) # [sol_initial_y,sol_initial_w,sum_demand]\n",
    "#x0 = [[x_raw[1],deepcopy(x_raw[1])],[x_raw[2],deepcopy(x_raw[2])],x_raw[3]]\n",
    "#T0 = initial_temperature(x0,L,M,input,g)\n",
    "#typeof(x0)\n",
    "#typeof(f(x0,input[6]))\n",
    "#i = 1\n",
    "#while T0 > 0.01\n",
    "#    i = i+1\n",
    "#    T0 = 0.95*T0\n",
    "#end\n",
    "\n",
    "#println(i)"
   ]
  },
  {
   "cell_type": "code",
   "execution_count": 28,
   "metadata": {},
   "outputs": [],
   "source": []
  }
 ],
 "metadata": {
  "kernelspec": {
   "display_name": "Julia 1.9.4",
   "language": "julia",
   "name": "julia-1.9"
  },
  "language_info": {
   "file_extension": ".jl",
   "mimetype": "application/julia",
   "name": "julia",
   "version": "1.9.4"
  }
 },
 "nbformat": 4,
 "nbformat_minor": 2
}
